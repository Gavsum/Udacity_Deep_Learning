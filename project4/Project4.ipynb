{
 "cells": [
  {
   "cell_type": "markdown",
   "metadata": {},
   "source": [
    "# Project4 - Language Translation\n",
    "This project utilizes a sequence to sequence model on a data set of English and French sentences and will attempt to then translate new sentences from English to French once trained."
   ]
  },
  {
   "cell_type": "markdown",
   "metadata": {},
   "source": [
    "### Data Import \n",
    "The training data is composed only of a small portion of the respective languages."
   ]
  },
  {
   "cell_type": "code",
   "execution_count": 1,
   "metadata": {
    "collapsed": true
   },
   "outputs": [],
   "source": [
    "import helper\n",
    "import problem_unittests as tests\n",
    "\n",
    "source_path = 'data/small_vocab_en.txt'\n",
    "target_path = 'data/small_vocab_fr.txt'\n",
    "source_text = helper.load_data(source_path)\n",
    "target_text = helper.load_data(target_path)"
   ]
  },
  {
   "cell_type": "markdown",
   "metadata": {},
   "source": [
    "A few printouts to provide some insight into the dataset."
   ]
  },
  {
   "cell_type": "code",
   "execution_count": 2,
   "metadata": {},
   "outputs": [
    {
     "name": "stdout",
     "output_type": "stream",
     "text": [
      "Dataset Stats\n",
      "Roughly the number of unique words: 227\n",
      "Number of sentences: 137861\n",
      "Average number of words in a sentence: 13.225277634719028\n",
      "\n",
      "English sentences 0 to 10:\n",
      "new jersey is sometimes quiet during autumn , and it is snowy in april .\n",
      "the united states is usually chilly during july , and it is usually freezing in november .\n",
      "california is usually quiet during march , and it is usually hot in june .\n",
      "the united states is sometimes mild during june , and it is cold in september .\n",
      "your least liked fruit is the grape , but my least liked is the apple .\n",
      "his favorite fruit is the orange , but my favorite is the grape .\n",
      "paris is relaxing during december , but it is usually chilly in july .\n",
      "new jersey is busy during spring , and it is never hot in march .\n",
      "our least liked fruit is the lemon , but my least liked is the grape .\n",
      "the united states is sometimes busy during january , and it is sometimes warm in november .\n",
      "\n",
      "French sentences 0 to 10:\n",
      "new jersey est parfois calme pendant l' automne , et il est neigeux en avril .\n",
      "les états-unis est généralement froid en juillet , et il gèle habituellement en novembre .\n",
      "california est généralement calme en mars , et il est généralement chaud en juin .\n",
      "les états-unis est parfois légère en juin , et il fait froid en septembre .\n",
      "votre moins aimé fruit est le raisin , mais mon moins aimé est la pomme .\n",
      "son fruit préféré est l'orange , mais mon préféré est le raisin .\n",
      "paris est relaxant en décembre , mais il est généralement froid en juillet .\n",
      "new jersey est occupé au printemps , et il est jamais chaude en mars .\n",
      "notre fruit est moins aimé le citron , mais mon moins aimé est le raisin .\n",
      "les états-unis est parfois occupé en janvier , et il est parfois chaud en novembre .\n"
     ]
    }
   ],
   "source": [
    "import numpy as np\n",
    "\n",
    "view_sentence_range = (0, 10)\n",
    "\n",
    "print('Dataset Stats')\n",
    "print('Roughly the number of unique words: {}'.format(len({word: None for word in source_text.split()})))\n",
    "\n",
    "sentences = source_text.split('\\n')\n",
    "word_counts = [len(sentence.split()) for sentence in sentences]\n",
    "print('Number of sentences: {}'.format(len(sentences)))\n",
    "print('Average number of words in a sentence: {}'.format(np.average(word_counts)))\n",
    "\n",
    "print()\n",
    "print('English sentences {} to {}:'.format(*view_sentence_range))\n",
    "print('\\n'.join(source_text.split('\\n')[view_sentence_range[0]:view_sentence_range[1]]))\n",
    "print()\n",
    "print('French sentences {} to {}:'.format(*view_sentence_range))\n",
    "print('\\n'.join(target_text.split('\\n')[view_sentence_range[0]:view_sentence_range[1]]))"
   ]
  },
  {
   "cell_type": "markdown",
   "metadata": {},
   "source": [
    "### Data Preprocessing\n",
    "Converting source text and target text datasets into numerical data input for the network."
   ]
  },
  {
   "cell_type": "code",
   "execution_count": 3,
   "metadata": {
    "collapsed": true
   },
   "outputs": [],
   "source": [
    "def text_to_ids(source_text, target_text, source_vocab_to_int, target_vocab_to_int):\n",
    "    \"\"\"\n",
    "    Convert source and target text to proper word ids\n",
    "    :param source_text: String that contains all the source text.\n",
    "    :param target_text: String that contains all the target text.\n",
    "    :param source_vocab_to_int: Dictionary to go from the source words to an id\n",
    "    :param target_vocab_to_int: Dictionary to go from the target words to an id\n",
    "    :return: A tuple of lists (source_id_text, target_id_text)\n",
    "    \"\"\"\n",
    "    source_id_text = [[source_vocab_to_int[x] for x in y.split()] for y in source_text.split('\\n')]\n",
    "    target_id_text = [[target_vocab_to_int[a] for a in b.split()] for b in target_text.split('\\n')]\n",
    "    \n",
    "    target_id_text = [entry + [target_vocab_to_int['<EOS>']]for entry in target_id_text]\n",
    "    \n",
    "    return source_id_text, target_id_text"
   ]
  },
  {
   "cell_type": "markdown",
   "metadata": {},
   "source": [
    "Utilize helper to preprocess data and save to file"
   ]
  },
  {
   "cell_type": "code",
   "execution_count": 4,
   "metadata": {
    "collapsed": true
   },
   "outputs": [],
   "source": [
    "helper.preprocess_and_save_data(source_path, target_path, text_to_ids)"
   ]
  },
  {
   "cell_type": "markdown",
   "metadata": {},
   "source": [
    "load data from disc. "
   ]
  },
  {
   "cell_type": "code",
   "execution_count": 5,
   "metadata": {
    "collapsed": true
   },
   "outputs": [],
   "source": [
    "(source_int_text, target_int_text), (source_vocab_to_int, target_vocab_to_int), _ = helper.load_preprocess()"
   ]
  },
  {
   "cell_type": "markdown",
   "metadata": {},
   "source": [
    "## Building the Neural Network"
   ]
  },
  {
   "cell_type": "code",
   "execution_count": 6,
   "metadata": {
    "collapsed": true
   },
   "outputs": [],
   "source": [
    "import tensorflow as tf\n",
    "from tensorflow.python.layers.core import Dense"
   ]
  },
  {
   "cell_type": "markdown",
   "metadata": {},
   "source": [
    "### Input\n",
    "Following function will create all the necessary placeholders for the network."
   ]
  },
  {
   "cell_type": "code",
   "execution_count": 7,
   "metadata": {
    "collapsed": true
   },
   "outputs": [],
   "source": [
    "def model_inputs():\n",
    "    \"\"\"\n",
    "    Create TF Placeholders for input, targets, learning rate, and lengths of source and target sequences.\n",
    "    :return: Tuple (input, targets, learning rate, keep probability, target sequence length,\n",
    "    max target sequence length, source sequence length)\n",
    "    \"\"\"\n",
    "    \n",
    "    inputs = tf.placeholder(tf.int32, [None, None], name='input')\n",
    "    targets = tf.placeholder(tf.int32, [None, None], name='targets')\n",
    "    keep_prob = tf.placeholder(tf.float32, name='keep_prob')\n",
    "    learning_rate = tf.placeholder(tf.float32, name='learning_rate')\n",
    "    source_len = tf.placeholder(tf.int32, [None], name='source_sequence_length')\n",
    "    target_len = tf.placeholder(tf.int32, [None], name='target_sequence_length')\n",
    "    max_target_len = tf.reduce_max(target_len)\n",
    "    \n",
    "    return inputs, targets, learning_rate, keep_prob, target_len, max_target_len, source_len\n"
   ]
  },
  {
   "cell_type": "markdown",
   "metadata": {},
   "source": [
    "### Process Decoder Input\n",
    "Removes the last word id from each batch in target_data and concatinates the GO ID to the begining of each word batch."
   ]
  },
  {
   "cell_type": "code",
   "execution_count": 8,
   "metadata": {
    "collapsed": true
   },
   "outputs": [],
   "source": [
    "def process_decoder_input(target_data, target_vocab_to_int, batch_size):\n",
    "    \"\"\"\n",
    "    Preprocess target data for encoding\n",
    "    :param target_data: Target Placehoder\n",
    "    :param target_vocab_to_int: Dictionary to go from the target words to an id\n",
    "    :param batch_size: Batch Size\n",
    "    :return: Preprocessed target data\n",
    "    \"\"\"\n",
    "    # Drop last word id from each batch\n",
    "    trimmed_batch = tf.strided_slice(target_data, [0,0], [batch_size, -1], [1, 1])\n",
    "\n",
    "    # Create GO_ID data to add to the batches\n",
    "    go_id = tf.fill([batch_size, 1], target_vocab_to_int[\"<GO>\"])\n",
    "    \n",
    "    # Consolidate Go ID & trimmed batch\n",
    "    processed = tf.concat([go_id, trimmed_batch], 1)\n",
    "    \n",
    "    return processed"
   ]
  },
  {
   "cell_type": "markdown",
   "metadata": {},
   "source": [
    "### Encoding\n",
    "Embed encoding input and construct stacked LSTM cells with dropout."
   ]
  },
  {
   "cell_type": "code",
   "execution_count": 9,
   "metadata": {
    "collapsed": true
   },
   "outputs": [],
   "source": [
    "def encoding_layer(rnn_inputs, rnn_size, num_layers, keep_prob,\n",
    "                  source_sequence_length, source_vocab_size, \n",
    "                  encoding_embedding_size):\n",
    "    \"\"\"\n",
    "    Create encoding layer\n",
    "    :param rnn_inputs: Inputs for the RNN\n",
    "    :param rnn_size: RNN Size\n",
    "    :param num_layers: Number of layers\n",
    "    :param keep_prob: Dropout keep probability\n",
    "    :param source_sequence_length: a list of the lengths of each sequence in the batch\n",
    "    :param source_vocab_size: vocabulary size of source data\n",
    "    :param encoding_embedding_size: embedding size of source data\n",
    "    :return: tuple (RNN output, RNN state)\n",
    "    \"\"\"\n",
    "    \n",
    "    # Creating the embedding\n",
    "    embed = tf.contrib.layers.embed_sequence(rnn_inputs, \n",
    "                                            source_vocab_size,\n",
    "                                            encoding_embedding_size)\n",
    "    \n",
    "    # LSTM Cell stack\n",
    "    cell = tf.contrib.rnn.MultiRNNCell([tf.contrib.rnn.LSTMCell(rnn_size) for _ in range(num_layers)])\n",
    "    \n",
    "    # Wrapping multi-cell stack w. dropout\n",
    "    drop = tf.contrib.rnn.DropoutWrapper(cell, output_keep_prob = keep_prob)\n",
    "    \n",
    "    # Create RNN output & state\n",
    "    rnn_out, rnn_state = tf.nn.dynamic_rnn(drop, embed, \n",
    "                                           sequence_length = source_sequence_length, \n",
    "                                           dtype = tf.float32)\n",
    "    \n",
    "    return rnn_out, rnn_state"
   ]
  },
  {
   "cell_type": "markdown",
   "metadata": {},
   "source": [
    "### Decoding - Training\n",
    "Using the seq2seq functions in tf.contrib to obtain decoder outputs."
   ]
  },
  {
   "cell_type": "code",
   "execution_count": 16,
   "metadata": {
    "collapsed": true
   },
   "outputs": [],
   "source": [
    "def decoding_layer_train(encoder_state, dec_cell, dec_embed_input,\n",
    "                        target_sequence_length, max_summary_length,\n",
    "                        output_layer, keep_prob):\n",
    "    \"\"\"\n",
    "    Create a decoding layer for training\n",
    "    :param encoder_state: Encoder State\n",
    "    :param dec_cell: Decoder RNN Cell\n",
    "    :param dec_embed_input: Decoder embedded input\n",
    "    :param target_sequence_length: The lengths of each sequence in the target batch\n",
    "    :param max_summary_length: The length of the longest sequence in the batch\n",
    "    :param output_layer: Function to apply the output layer\n",
    "    :param keep_prob: Dropout keep probability\n",
    "    :return: BasicDecoderOutput containing training logits and sample_id\n",
    "    \"\"\"\n",
    "    \n",
    "    # Helper for the training process\n",
    "    training_helper = tf.contrib.seq2seq.TrainingHelper(inputs = dec_embed_input,\n",
    "                                                       sequence_length = target_sequence_length,\n",
    "                                                       time_major = False)\n",
    "    \n",
    "    # Basic Decoder\n",
    "    training_decoder = tf.contrib.seq2seq.BasicDecoder(dec_cell, \n",
    "                                                      training_helper,\n",
    "                                                      encoder_state,\n",
    "                                                      output_layer)\n",
    "    \n",
    "    # Perform dynamic encoding\n",
    "    training_output, state, seq_len = tf.contrib.seq2seq.dynamic_decode(training_decoder,\n",
    "                                                              impute_finished = True,\n",
    "                                                              maximum_iterations = max_summary_length)\n",
    "    \n",
    "    return training_output"
   ]
  },
  {
   "cell_type": "markdown",
   "metadata": {},
   "source": [
    "### Decoding - Inference\n",
    "Again utilizing the tf seq2seq functions to create the inference decoder and obtain decoder outputs."
   ]
  },
  {
   "cell_type": "code",
   "execution_count": 22,
   "metadata": {
    "collapsed": true,
    "scrolled": true
   },
   "outputs": [],
   "source": [
    "def decoding_layer_infer(encoder_state, dec_cell, dec_embeddings,\n",
    "                        start_of_sequence_id, end_of_sequence_id,\n",
    "                         max_target_sequence_length, vocab_size,\n",
    "                        output_layer, batch_size, keep_prob):\n",
    "    \"\"\"\n",
    "    Create a decoding layer for inference\n",
    "    :param encoder_state: Encoder state\n",
    "    :param dec_cell: Decoder RNN Cell\n",
    "    :param dec_embeddings: Decoder embeddings\n",
    "    :param start_of_sequence_id: GO ID\n",
    "    :param end_of_sequence_id: EOS Id\n",
    "    :param max_target_sequence_length: Maximum length of target sequences\n",
    "    :param vocab_size: Size of decoder/target vocabulary\n",
    "    :param decoding_scope: TenorFlow Variable Scope for decoding\n",
    "    :param output_layer: Function to apply the output layer\n",
    "    :param batch_size: Batch size\n",
    "    :param keep_prob: Dropout keep probability\n",
    "    :return: BasicDecoderOutput containing inference logits and sample_id\n",
    "    \"\"\"\n",
    "    #Start tokens\n",
    "    start_tokens = tf.tile(tf.constant([start_of_sequence_id],\n",
    "                                        dtype = tf.int32),\n",
    "                                        [batch_size],\n",
    "                                        name = 'start_tokens')\n",
    "    \n",
    "    # Helper for the inference process\n",
    "    inference_helper = tf.contrib.seq2seq.GreedyEmbeddingHelper(dec_embeddings,\n",
    "                                                               start_tokens,\n",
    "                                                               end_of_sequence_id)\n",
    "    \n",
    "    # Basic decoder\n",
    "    inference_decoder = tf.contrib.seq2seq.BasicDecoder(dec_cell,\n",
    "                                                       inference_helper,\n",
    "                                                       encoder_state,\n",
    "                                                       output_layer)\n",
    "    \n",
    "    # Perform dynamic decoding\n",
    "    inference_output, state, seq_len = tf.contrib.seq2seq.dynamic_decode(inference_decoder,\n",
    "                                                               impute_finished = True,\n",
    "                                                               maximum_iterations = max_target_sequence_length)\n",
    "    \n",
    "    return inference_output"
   ]
  },
  {
   "cell_type": "markdown",
   "metadata": {},
   "source": [
    "### Decoding Layer\n",
    "Creating the RNN layer for the decoder. Embeds target sequences, constructs decoder LSTM cell, and output layer."
   ]
  },
  {
   "cell_type": "code",
   "execution_count": 23,
   "metadata": {
    "collapsed": true
   },
   "outputs": [],
   "source": [
    "def decoding_layer(dec_input, encoder_state,\n",
    "                   target_sequence_length, max_target_sequence_length,\n",
    "                   rnn_size,\n",
    "                   num_layers, target_vocab_to_int, target_vocab_size,\n",
    "                   batch_size, keep_prob, decoding_embedding_size):\n",
    "    \"\"\"\n",
    "    Create decoding layer\n",
    "    :param dec_input: Decoder input\n",
    "    :param encoder_state: Encoder state\n",
    "    :param target_sequence_length: The lengths of each sequence in the target batch\n",
    "    :param max_target_sequence_length: Maximum length of target sequences\n",
    "    :param rnn_size: RNN Size\n",
    "    :param num_layers: Number of layers\n",
    "    :param target_vocab_to_int: Dictionary to go from the target words to an id\n",
    "    :param target_vocab_size: Size of target vocabulary\n",
    "    :param batch_size: The size of the batch\n",
    "    :param keep_prob: Dropout keep probability\n",
    "    :param decoding_embedding_size: Decoding embedding size\n",
    "    :return: Tuple of (Training BasicDecoderOutput, Inference BasicDecoderOutput)\n",
    "    \"\"\"\n",
    "    \n",
    "    # Decoder embedding\n",
    "    dec_embeddings = tf.Variable(tf.random_uniform([target_vocab_size, decoding_embedding_size]))\n",
    "    dec_embed_input = tf.nn.embedding_lookup(dec_embeddings, dec_input)\n",
    "    \n",
    "    # Construct Decoder cell\n",
    "    def make_cell(rnn_size):\n",
    "        dec_cell = tf.contrib.rnn.LSTMCell(rnn_size,\n",
    "                                      initializer = tf.random_uniform_initializer(-0.1, 0.1, seed=2))\n",
    "        \n",
    "        return dec_cell\n",
    "    \n",
    "    dec_cell = tf.contrib.rnn.MultiRNNCell([make_cell(rnn_size) for _ in range(num_layers)])\n",
    "    \n",
    "    # Dense layer to translate decoder output\n",
    "    output_layer = Dense(target_vocab_size,\n",
    "                        kernel_initializer = tf.truncated_normal_initializer(mean=0.0, stddev=0.1))\n",
    "    \n",
    "    go_id = target_vocab_to_int['<GO>']\n",
    "    eos_id = target_vocab_to_int['<EOS>']\n",
    "    \n",
    "    with tf.variable_scope('decode') as scope:\n",
    "        # Call training decoder\n",
    "        dec_train_out = decoding_layer_train(encoder_state,\n",
    "                                            dec_cell,\n",
    "                                            dec_embed_input,\n",
    "                                            target_sequence_length,\n",
    "                                            max_target_sequence_length,\n",
    "                                            output_layer,\n",
    "                                            keep_prob)\n",
    "        \n",
    "        # Reuse parameter variables for inference function call\n",
    "        scope.reuse_variables()\n",
    "        \n",
    "        # Call to inference decoder\n",
    "        dec_infer_out = decoding_layer_infer(encoder_state,\n",
    "                                            dec_cell,\n",
    "                                            dec_embeddings,\n",
    "                                            go_id,\n",
    "                                            eos_id,\n",
    "                                            max_target_sequence_length,\n",
    "                                            target_vocab_size,\n",
    "                                            output_layer,\n",
    "                                            batch_size,\n",
    "                                            keep_prob)\n",
    "        \n",
    "        return dec_train_out, dec_infer_out"
   ]
  },
  {
   "cell_type": "markdown",
   "metadata": {},
   "source": [
    "### Building the Network"
   ]
  },
  {
   "cell_type": "code",
   "execution_count": 24,
   "metadata": {
    "collapsed": true
   },
   "outputs": [],
   "source": [
    "def seq2seq_model(input_data, target_data, keep_prob, batch_size,\n",
    "                  source_sequence_length, target_sequence_length,\n",
    "                  max_target_sentence_length,\n",
    "                  source_vocab_size, target_vocab_size,\n",
    "                  enc_embedding_size, dec_embedding_size,\n",
    "                  rnn_size, num_layers, target_vocab_to_int):\n",
    "    \"\"\"\n",
    "    Build the Sequence-to-Sequence part of the neural network\n",
    "    :param input_data: Input placeholder\n",
    "    :param target_data: Target placeholder\n",
    "    :param keep_prob: Dropout keep probability placeholder\n",
    "    :param batch_size: Batch Size\n",
    "    :param source_sequence_length: Sequence Lengths of source sequences in the batch\n",
    "    :param target_sequence_length: Sequence Lengths of target sequences in the batch\n",
    "    :param source_vocab_size: Source vocabulary size\n",
    "    :param target_vocab_size: Target vocabulary size\n",
    "    :param enc_embedding_size: Decoder embedding size\n",
    "    :param dec_embedding_size: Encoder embedding size\n",
    "    :param rnn_size: RNN Size\n",
    "    :param num_layers: Number of layers\n",
    "    :param target_vocab_to_int: Dictionary to go from the target words to an id\n",
    "    :return: Tuple of (Training BasicDecoderOutput, Inference BasicDecoderOutput)\n",
    "    \"\"\"\n",
    "    # Pass data through encoder\n",
    "    ignore, enc_state = encoding_layer(input_data,\n",
    "                                      rnn_size,\n",
    "                                      num_layers,\n",
    "                                      keep_prob,\n",
    "                                      source_sequence_length,\n",
    "                                      source_vocab_size,\n",
    "                                      enc_embedding_size)\n",
    "    \n",
    "    # Prepare target sequences\n",
    "    dec_input = process_decoder_input(target_data,\n",
    "                                     target_vocab_to_int,\n",
    "                                     batch_size)\n",
    "    \n",
    "    # Pass encoder state & inputs to decoders\n",
    "    train_dec_out, infer_dec_out = decoding_layer(dec_input,\n",
    "                                                 enc_state,\n",
    "                                                 target_sequence_length,\n",
    "                                                 max_target_sentence_length,\n",
    "                                                 rnn_size,\n",
    "                                                 num_layers,\n",
    "                                                 target_vocab_to_int,\n",
    "                                                 target_vocab_size,\n",
    "                                                 batch_size,\n",
    "                                                 keep_prob,\n",
    "                                                 dec_embedding_size)\n",
    "    \n",
    "    return train_dec_out, infer_dec_out\n",
    "    "
   ]
  },
  {
   "cell_type": "markdown",
   "metadata": {},
   "source": [
    "## Network Training\n",
    "### HyperParameters"
   ]
  },
  {
   "cell_type": "code",
   "execution_count": 25,
   "metadata": {
    "collapsed": true
   },
   "outputs": [],
   "source": [
    "# Number of Epochs\n",
    "epochs = 4\n",
    "# Batch Size\n",
    "batch_size = 256\n",
    "# RNN Size\n",
    "rnn_size = 150\n",
    "# Number of Layers\n",
    "num_layers = 2\n",
    "# Embedding Size\n",
    "encoding_embedding_size = 150\n",
    "decoding_embedding_size = 150\n",
    "# Learning Rate\n",
    "learning_rate = 0.01\n",
    "# Dropout Keep Probability\n",
    "keep_probability = 0.8\n",
    "display_step = 50"
   ]
  },
  {
   "cell_type": "markdown",
   "metadata": {},
   "source": [
    "### Building the graph"
   ]
  },
  {
   "cell_type": "code",
   "execution_count": 26,
   "metadata": {},
   "outputs": [],
   "source": [
    "save_path = 'checkpoints/dev'\n",
    "(source_int_text, target_int_text), (source_vocab_to_int, target_vocab_to_int), _ = helper.load_preprocess()\n",
    "max_target_sentence_length = max([len(sentence) for sentence in source_int_text])\n",
    "\n",
    "train_graph = tf.Graph()\n",
    "with train_graph.as_default():\n",
    "    input_data, targets, lr, keep_prob, target_sequence_length, max_target_sequence_length, source_sequence_length = model_inputs()\n",
    "\n",
    "    #sequence_length = tf.placeholder_with_default(max_target_sentence_length, None, name='sequence_length')\n",
    "    input_shape = tf.shape(input_data)\n",
    "\n",
    "    train_logits, inference_logits = seq2seq_model(tf.reverse(input_data, [-1]),\n",
    "                                                   targets,\n",
    "                                                   keep_prob,\n",
    "                                                   batch_size,\n",
    "                                                   source_sequence_length,\n",
    "                                                   target_sequence_length,\n",
    "                                                   max_target_sequence_length,\n",
    "                                                   len(source_vocab_to_int),\n",
    "                                                   len(target_vocab_to_int),\n",
    "                                                   encoding_embedding_size,\n",
    "                                                   decoding_embedding_size,\n",
    "                                                   rnn_size,\n",
    "                                                   num_layers,\n",
    "                                                   target_vocab_to_int)\n",
    "\n",
    "\n",
    "    training_logits = tf.identity(train_logits.rnn_output, name='logits')\n",
    "    inference_logits = tf.identity(inference_logits.sample_id, name='predictions')\n",
    "\n",
    "    masks = tf.sequence_mask(target_sequence_length, max_target_sequence_length, dtype=tf.float32, name='masks')\n",
    "\n",
    "    with tf.name_scope(\"optimization\"):\n",
    "        # Loss function\n",
    "        cost = tf.contrib.seq2seq.sequence_loss(\n",
    "            training_logits,\n",
    "            targets,\n",
    "            masks)\n",
    "\n",
    "        # Optimizer\n",
    "        optimizer = tf.train.AdamOptimizer(lr)\n",
    "\n",
    "        # Gradient Clipping\n",
    "        gradients = optimizer.compute_gradients(cost)\n",
    "        capped_gradients = [(tf.clip_by_value(grad, -1., 1.), var) for grad, var in gradients if grad is not None]\n",
    "        train_op = optimizer.apply_gradients(capped_gradients)\n"
   ]
  },
  {
   "cell_type": "markdown",
   "metadata": {},
   "source": [
    "### Batch and Pad\n",
    "Preparing the datasets"
   ]
  },
  {
   "cell_type": "code",
   "execution_count": 27,
   "metadata": {
    "collapsed": true
   },
   "outputs": [],
   "source": [
    "def pad_sentence_batch(sentence_batch, pad_int):\n",
    "    \"\"\"Pad sentences with <PAD> so that each sentence of a batch has the same length\"\"\"\n",
    "    max_sentence = max([len(sentence) for sentence in sentence_batch])\n",
    "    return [sentence + [pad_int] * (max_sentence - len(sentence)) for sentence in sentence_batch]\n",
    "\n",
    "\n",
    "def get_batches(sources, targets, batch_size, source_pad_int, target_pad_int):\n",
    "    \"\"\"Batch targets, sources, and the lengths of their sentences together\"\"\"\n",
    "    for batch_i in range(0, len(sources)//batch_size):\n",
    "        start_i = batch_i * batch_size\n",
    "\n",
    "        # Slice the right amount for the batch\n",
    "        sources_batch = sources[start_i:start_i + batch_size]\n",
    "        targets_batch = targets[start_i:start_i + batch_size]\n",
    "\n",
    "        # Pad\n",
    "        pad_sources_batch = np.array(pad_sentence_batch(sources_batch, source_pad_int))\n",
    "        pad_targets_batch = np.array(pad_sentence_batch(targets_batch, target_pad_int))\n",
    "\n",
    "        # Need the lengths for the _lengths parameters\n",
    "        pad_targets_lengths = []\n",
    "        for target in pad_targets_batch:\n",
    "            pad_targets_lengths.append(len(target))\n",
    "\n",
    "        pad_source_lengths = []\n",
    "        for source in pad_sources_batch:\n",
    "            pad_source_lengths.append(len(source))\n",
    "\n",
    "        yield pad_sources_batch, pad_targets_batch, pad_source_lengths, pad_targets_lengths\n"
   ]
  },
  {
   "cell_type": "markdown",
   "metadata": {},
   "source": [
    "### Training"
   ]
  },
  {
   "cell_type": "code",
   "execution_count": 28,
   "metadata": {},
   "outputs": [
    {
     "name": "stdout",
     "output_type": "stream",
     "text": [
      "Epoch   0 Batch   50/538 - Train Accuracy: 0.4904, Validation Accuracy: 0.5202, Loss: 2.1273\n",
      "Epoch   0 Batch  100/538 - Train Accuracy: 0.5494, Validation Accuracy: 0.5717, Loss: 1.1451\n",
      "Epoch   0 Batch  150/538 - Train Accuracy: 0.5938, Validation Accuracy: 0.5985, Loss: 0.7500\n",
      "Epoch   0 Batch  200/538 - Train Accuracy: 0.6260, Validation Accuracy: 0.6270, Loss: 0.5806\n",
      "Epoch   0 Batch  250/538 - Train Accuracy: 0.6553, Validation Accuracy: 0.6731, Loss: 0.4781\n",
      "Epoch   0 Batch  300/538 - Train Accuracy: 0.7169, Validation Accuracy: 0.7198, Loss: 0.3604\n",
      "Epoch   0 Batch  350/538 - Train Accuracy: 0.8164, Validation Accuracy: 0.7795, Loss: 0.2760\n",
      "Epoch   0 Batch  400/538 - Train Accuracy: 0.8374, Validation Accuracy: 0.8269, Loss: 0.1927\n",
      "Epoch   0 Batch  450/538 - Train Accuracy: 0.8776, Validation Accuracy: 0.8716, Loss: 0.1479\n",
      "Epoch   0 Batch  500/538 - Train Accuracy: 0.9171, Validation Accuracy: 0.8823, Loss: 0.0937\n",
      "Epoch   1 Batch   50/538 - Train Accuracy: 0.9195, Validation Accuracy: 0.9096, Loss: 0.0698\n",
      "Epoch   1 Batch  100/538 - Train Accuracy: 0.9258, Validation Accuracy: 0.9057, Loss: 0.0602\n",
      "Epoch   1 Batch  150/538 - Train Accuracy: 0.9355, Validation Accuracy: 0.9267, Loss: 0.0503\n",
      "Epoch   1 Batch  200/538 - Train Accuracy: 0.9439, Validation Accuracy: 0.9460, Loss: 0.0450\n",
      "Epoch   1 Batch  250/538 - Train Accuracy: 0.9430, Validation Accuracy: 0.9455, Loss: 0.0491\n",
      "Epoch   1 Batch  300/538 - Train Accuracy: 0.9464, Validation Accuracy: 0.9471, Loss: 0.0431\n",
      "Epoch   1 Batch  350/538 - Train Accuracy: 0.9524, Validation Accuracy: 0.9585, Loss: 0.0475\n",
      "Epoch   1 Batch  400/538 - Train Accuracy: 0.9490, Validation Accuracy: 0.9345, Loss: 0.0369\n",
      "Epoch   1 Batch  450/538 - Train Accuracy: 0.9314, Validation Accuracy: 0.9581, Loss: 0.0477\n",
      "Epoch   1 Batch  500/538 - Train Accuracy: 0.9714, Validation Accuracy: 0.9561, Loss: 0.0228\n",
      "Epoch   2 Batch   50/538 - Train Accuracy: 0.9529, Validation Accuracy: 0.9542, Loss: 0.0282\n",
      "Epoch   2 Batch  100/538 - Train Accuracy: 0.9535, Validation Accuracy: 0.9529, Loss: 0.0257\n",
      "Epoch   2 Batch  150/538 - Train Accuracy: 0.9656, Validation Accuracy: 0.9531, Loss: 0.0248\n",
      "Epoch   2 Batch  200/538 - Train Accuracy: 0.9828, Validation Accuracy: 0.9528, Loss: 0.0193\n",
      "Epoch   2 Batch  250/538 - Train Accuracy: 0.9707, Validation Accuracy: 0.9450, Loss: 0.0247\n",
      "Epoch   2 Batch  300/538 - Train Accuracy: 0.9461, Validation Accuracy: 0.9613, Loss: 0.0262\n",
      "Epoch   2 Batch  350/538 - Train Accuracy: 0.9669, Validation Accuracy: 0.9627, Loss: 0.0273\n",
      "Epoch   2 Batch  400/538 - Train Accuracy: 0.9758, Validation Accuracy: 0.9618, Loss: 0.0236\n",
      "Epoch   2 Batch  450/538 - Train Accuracy: 0.9427, Validation Accuracy: 0.9672, Loss: 0.0313\n",
      "Epoch   2 Batch  500/538 - Train Accuracy: 0.9775, Validation Accuracy: 0.9512, Loss: 0.0150\n",
      "Epoch   3 Batch   50/538 - Train Accuracy: 0.9664, Validation Accuracy: 0.9538, Loss: 0.0192\n",
      "Epoch   3 Batch  100/538 - Train Accuracy: 0.9850, Validation Accuracy: 0.9640, Loss: 0.0146\n",
      "Epoch   3 Batch  150/538 - Train Accuracy: 0.9686, Validation Accuracy: 0.9595, Loss: 0.0198\n",
      "Epoch   3 Batch  200/538 - Train Accuracy: 0.9799, Validation Accuracy: 0.9588, Loss: 0.0141\n",
      "Epoch   3 Batch  250/538 - Train Accuracy: 0.9652, Validation Accuracy: 0.9616, Loss: 0.0217\n",
      "Epoch   3 Batch  300/538 - Train Accuracy: 0.9671, Validation Accuracy: 0.9602, Loss: 0.0209\n",
      "Epoch   3 Batch  350/538 - Train Accuracy: 0.9706, Validation Accuracy: 0.9588, Loss: 0.0254\n",
      "Epoch   3 Batch  400/538 - Train Accuracy: 0.9788, Validation Accuracy: 0.9682, Loss: 0.0224\n",
      "Epoch   3 Batch  450/538 - Train Accuracy: 0.9708, Validation Accuracy: 0.9618, Loss: 0.0253\n",
      "Epoch   3 Batch  500/538 - Train Accuracy: 0.9817, Validation Accuracy: 0.9602, Loss: 0.0141\n",
      "Model Trained and Saved\n"
     ]
    }
   ],
   "source": [
    "def get_accuracy(target, logits):\n",
    "    \"\"\"\n",
    "    Calculate accuracy\n",
    "    \"\"\"\n",
    "    max_seq = max(target.shape[1], logits.shape[1])\n",
    "    if max_seq - target.shape[1]:\n",
    "        target = np.pad(\n",
    "            target,\n",
    "            [(0,0),(0,max_seq - target.shape[1])],\n",
    "            'constant')\n",
    "    if max_seq - logits.shape[1]:\n",
    "        logits = np.pad(\n",
    "            logits,\n",
    "            [(0,0),(0,max_seq - logits.shape[1])],\n",
    "            'constant')\n",
    "\n",
    "    return np.mean(np.equal(target, logits))\n",
    "\n",
    "# Split data to training and validation sets\n",
    "train_source = source_int_text[batch_size:]\n",
    "train_target = target_int_text[batch_size:]\n",
    "valid_source = source_int_text[:batch_size]\n",
    "valid_target = target_int_text[:batch_size]\n",
    "(valid_sources_batch, valid_targets_batch, valid_sources_lengths, valid_targets_lengths ) = next(get_batches(valid_source,\n",
    "                                                                                                             valid_target,\n",
    "                                                                                                             batch_size,\n",
    "                                                                                                             source_vocab_to_int['<PAD>'],\n",
    "                                                                                                             target_vocab_to_int['<PAD>']))                                                                                                  \n",
    "with tf.Session(graph=train_graph) as sess:\n",
    "    sess.run(tf.global_variables_initializer())\n",
    "\n",
    "    for epoch_i in range(epochs):\n",
    "        for batch_i, (source_batch, target_batch, sources_lengths, targets_lengths) in enumerate(\n",
    "                get_batches(train_source, train_target, batch_size,\n",
    "                            source_vocab_to_int['<PAD>'],\n",
    "                            target_vocab_to_int['<PAD>'])):\n",
    "\n",
    "            _, loss = sess.run(\n",
    "                [train_op, cost],\n",
    "                {input_data: source_batch,\n",
    "                 targets: target_batch,\n",
    "                 lr: learning_rate,\n",
    "                 target_sequence_length: targets_lengths,\n",
    "                 source_sequence_length: sources_lengths,\n",
    "                 keep_prob: keep_probability})\n",
    "\n",
    "\n",
    "            if batch_i % display_step == 0 and batch_i > 0:\n",
    "\n",
    "\n",
    "                batch_train_logits = sess.run(\n",
    "                    inference_logits,\n",
    "                    {input_data: source_batch,\n",
    "                     source_sequence_length: sources_lengths,\n",
    "                     target_sequence_length: targets_lengths,\n",
    "                     keep_prob: 1.0})\n",
    "\n",
    "\n",
    "                batch_valid_logits = sess.run(\n",
    "                    inference_logits,\n",
    "                    {input_data: valid_sources_batch,\n",
    "                     source_sequence_length: valid_sources_lengths,\n",
    "                     target_sequence_length: valid_targets_lengths,\n",
    "                     keep_prob: 1.0})\n",
    "\n",
    "                train_acc = get_accuracy(target_batch, batch_train_logits)\n",
    "\n",
    "                valid_acc = get_accuracy(valid_targets_batch, batch_valid_logits)\n",
    "\n",
    "                print('Epoch {:>3} Batch {:>4}/{} - Train Accuracy: {:>6.4f}, Validation Accuracy: {:>6.4f}, Loss: {:>6.4f}'\n",
    "                      .format(epoch_i, batch_i, len(source_int_text) // batch_size, train_acc, valid_acc, loss))\n",
    "\n",
    "    # Save Model\n",
    "    saver = tf.train.Saver()\n",
    "    saver.save(sess, save_path)\n",
    "    print('Model Trained and Saved')"
   ]
  },
  {
   "cell_type": "markdown",
   "metadata": {},
   "source": [
    "### Save Model"
   ]
  },
  {
   "cell_type": "code",
   "execution_count": 29,
   "metadata": {
    "collapsed": true
   },
   "outputs": [],
   "source": [
    "# Save parameters for checkpoint\n",
    "helper.save_params(save_path)"
   ]
  },
  {
   "cell_type": "markdown",
   "metadata": {},
   "source": [
    "reload model from file"
   ]
  },
  {
   "cell_type": "code",
   "execution_count": 30,
   "metadata": {
    "collapsed": true
   },
   "outputs": [],
   "source": [
    "_, (source_vocab_to_int, target_vocab_to_int), (source_int_to_vocab, target_int_to_vocab) = helper.load_preprocess()\n",
    "load_path = helper.load_params()"
   ]
  },
  {
   "cell_type": "markdown",
   "metadata": {},
   "source": [
    "### Sentence to Sequence\n",
    "To feed a sentence into the model for translation, it must first be processed. The following function will complete this action."
   ]
  },
  {
   "cell_type": "code",
   "execution_count": 31,
   "metadata": {
    "collapsed": true
   },
   "outputs": [],
   "source": [
    "def sentence_to_seq(sentence, vocab_to_int):\n",
    "    \"\"\"\n",
    "    Convert a sentence to a sequence of ids\n",
    "    :param sentence: String\n",
    "    :param vocab_to_int: Dictionary to go from the words to an id\n",
    "    :return: List of word ids\n",
    "    \"\"\"\n",
    "    low_case = sentence.lower()\n",
    "    \n",
    "    word_ids = [vocab_to_int.get(word, vocab_to_int['<UNK>']) for word in sentence.split()]\n",
    "    \n",
    "    return word_ids"
   ]
  },
  {
   "cell_type": "markdown",
   "metadata": {},
   "source": [
    "### Translation\n",
    "Testing the model's translation capabilities on an english sentence."
   ]
  },
  {
   "cell_type": "code",
   "execution_count": 32,
   "metadata": {
    "collapsed": true
   },
   "outputs": [],
   "source": [
    "translate_sentence = 'he saw a old yellow truck .'"
   ]
  },
  {
   "cell_type": "code",
   "execution_count": 33,
   "metadata": {},
   "outputs": [
    {
     "name": "stdout",
     "output_type": "stream",
     "text": [
      "INFO:tensorflow:Restoring parameters from checkpoints/dev\n",
      "Input\n",
      "  Word Ids:      [198, 25, 28, 50, 147, 212, 115]\n",
      "  English Words: ['he', 'saw', 'a', 'old', 'yellow', 'truck', '.']\n",
      "\n",
      "Prediction\n",
      "  Word Ids:      [270, 108, 70, 326, 317, 326, 236, 12, 134, 1]\n",
      "  French Words: il a vu au rendre au printemps prochain . <EOS>\n"
     ]
    }
   ],
   "source": [
    "translate_sentence = sentence_to_seq(translate_sentence, source_vocab_to_int)\n",
    "\n",
    "loaded_graph = tf.Graph()\n",
    "with tf.Session(graph=loaded_graph) as sess:\n",
    "    # Load saved model\n",
    "    loader = tf.train.import_meta_graph(load_path + '.meta')\n",
    "    loader.restore(sess, load_path)\n",
    "\n",
    "    input_data = loaded_graph.get_tensor_by_name('input:0')\n",
    "    logits = loaded_graph.get_tensor_by_name('predictions:0')\n",
    "    target_sequence_length = loaded_graph.get_tensor_by_name('target_sequence_length:0')\n",
    "    source_sequence_length = loaded_graph.get_tensor_by_name('source_sequence_length:0')\n",
    "    keep_prob = loaded_graph.get_tensor_by_name('keep_prob:0')\n",
    "\n",
    "    translate_logits = sess.run(logits, {input_data: [translate_sentence]*batch_size,\n",
    "                                         target_sequence_length: [len(translate_sentence)*2]*batch_size,\n",
    "                                         source_sequence_length: [len(translate_sentence)]*batch_size,\n",
    "                                         keep_prob: 1.0})[0]\n",
    "\n",
    "print('Input')\n",
    "print('  Word Ids:      {}'.format([i for i in translate_sentence]))\n",
    "print('  English Words: {}'.format([source_int_to_vocab[i] for i in translate_sentence]))\n",
    "\n",
    "print('\\nPrediction')\n",
    "print('  Word Ids:      {}'.format([i for i in translate_logits]))\n",
    "print('  French Words: {}'.format(\" \".join([target_int_to_vocab[i] for i in translate_logits])))"
   ]
  },
  {
   "cell_type": "markdown",
   "metadata": {},
   "source": [
    "### Limitations"
   ]
  },
  {
   "cell_type": "markdown",
   "metadata": {},
   "source": [
    "Due to the fact that this model was trained on a limited vocabulary containing only 227 english words, some sentences will obviously translate better than others."
   ]
  },
  {
   "cell_type": "code",
   "execution_count": null,
   "metadata": {
    "collapsed": true
   },
   "outputs": [],
   "source": []
  }
 ],
 "metadata": {
  "kernelspec": {
   "display_name": "Python 3",
   "language": "python",
   "name": "python3"
  },
  "language_info": {
   "codemirror_mode": {
    "name": "ipython",
    "version": 3
   },
   "file_extension": ".py",
   "mimetype": "text/x-python",
   "name": "python",
   "nbconvert_exporter": "python",
   "pygments_lexer": "ipython3",
   "version": "3.5.3"
  },
  "widgets": {
   "state": {},
   "version": "1.1.2"
  }
 },
 "nbformat": 4,
 "nbformat_minor": 2
}
