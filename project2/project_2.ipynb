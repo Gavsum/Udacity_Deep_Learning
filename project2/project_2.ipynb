{
 "cells": [
  {
   "cell_type": "markdown",
   "metadata": {},
   "source": [
    "## Project 2 - Image Classification\n",
    "\n",
    "This network will attempt to classify images from the [CIFAR-10 dataset](https://www.cs.toronto.edu/~kriz/cifar.html). The dataset consists of airplanes, dogs, cats, and other objects. The data will be preprocessed, and then run through a convolutional neural network. Accuracy for this architecture is expected to be ~ 50% to 70% ."
   ]
  },
  {
   "cell_type": "code",
   "execution_count": 1,
   "metadata": {},
   "outputs": [
    {
     "name": "stderr",
     "output_type": "stream",
     "text": [
      "CIFAR-10 Dataset: 171MB [00:12, 13.3MB/s]                              \n"
     ]
    }
   ],
   "source": [
    "import data_get\n",
    "import problem_unittests as tests\n",
    "\n",
    "# Import CIFAR-10 Data set\n",
    "cifar10_dataset_folder_path = data_get.retrieve()"
   ]
  },
  {
   "cell_type": "markdown",
   "metadata": {},
   "source": [
    "## Exploring the data"
   ]
  },
  {
   "cell_type": "code",
   "execution_count": 2,
   "metadata": {
    "scrolled": true
   },
   "outputs": [
    {
     "name": "stdout",
     "output_type": "stream",
     "text": [
      "\n",
      "Stats of batch 1:\n",
      "Samples: 10000\n",
      "Label Counts: {0: 1005, 1: 974, 2: 1032, 3: 1016, 4: 999, 5: 937, 6: 1030, 7: 1001, 8: 1025, 9: 981}\n",
      "First 20 Labels: [6, 9, 9, 4, 1, 1, 2, 7, 8, 3, 4, 7, 7, 2, 9, 9, 9, 3, 2, 6]\n",
      "\n",
      "Example of Image 5:\n",
      "Image - Min Value: 0 Max Value: 252\n",
      "Image - Shape: (32, 32, 3)\n",
      "Label - Label Id: 1 Name: automobile\n"
     ]
    },
    {
     "data": {
      "image/png": "[encoded data removed]",
      "text/plain": [
       "<matplotlib.figure.Figure at 0x7fbd31a7e5c0>"
      ]
     },
     "metadata": {
      "image/png": {
       "height": 250,
       "width": 253
      }
     },
     "output_type": "display_data"
    }
   ],
   "source": [
    "%matplotlib inline\n",
    "%config InlineBackend.figure_format = 'retina'\n",
    "\n",
    "import helper\n",
    "import numpy as np\n",
    "\n",
    "# Explore the dataset\n",
    "batch_id = 1\n",
    "sample_id = 5\n",
    "helper.display_stats(cifar10_dataset_folder_path, batch_id, sample_id)"
   ]
  },
  {
   "cell_type": "markdown",
   "metadata": {},
   "source": [
    "## Preprocessing Functions"
   ]
  },
  {
   "cell_type": "markdown",
   "metadata": {},
   "source": [
    "### Normalize\n",
    "Function below takes in image data, and returns it as a normalized numpy array. Values should be within the range 0 to 1, inclusive. Return object is same shape as input object."
   ]
  },
  {
   "cell_type": "code",
   "execution_count": 16,
   "metadata": {
    "collapsed": true
   },
   "outputs": [],
   "source": [
    "def normalize(x):\n",
    "    in_vals = np.array(x)\n",
    "    divisor = np.full(in_vals.shape, 256)\n",
    "    normed = np.divide(in_vals, divisor)\n",
    "    \n",
    "    return normed"
   ]
  },
  {
   "cell_type": "markdown",
   "metadata": {},
   "source": [
    "### One-hot encoding\n",
    "Receives list of labels as input, returns same list as one-hot encoded numpy array. "
   ]
  },
  {
   "cell_type": "code",
   "execution_count": 17,
   "metadata": {
    "collapsed": true
   },
   "outputs": [],
   "source": [
    "def one_hot_encode(x):\n",
    "    return np.eye(10)[x]        "
   ]
  },
  {
   "cell_type": "markdown",
   "metadata": {},
   "source": [
    "### Preprocess and save\n",
    "Utilizing provided helper function to preprocess the dataset, and save its output"
   ]
  },
  {
   "cell_type": "code",
   "execution_count": 18,
   "metadata": {
    "collapsed": true
   },
   "outputs": [],
   "source": [
    "helper.preprocess_and_save_data(cifar10_dataset_folder_path, normalize, one_hot_encode)"
   ]
  },
  {
   "cell_type": "code",
   "execution_count": 19,
   "metadata": {
    "collapsed": true
   },
   "outputs": [],
   "source": [
    "\n",
    "import pickle\n",
    "import problem_unittests as tests\n",
    "import helper\n",
    "\n",
    "# Load the Preprocessed Validation data\n",
    "valid_features, valid_labels = pickle.load(open('preprocess_validation.p', mode='rb'))\n"
   ]
  },
  {
   "cell_type": "markdown",
   "metadata": {},
   "source": [
    "## Build the network"
   ]
  },
  {
   "cell_type": "markdown",
   "metadata": {},
   "source": [
    "### Placeholder functions"
   ]
  },
  {
   "cell_type": "code",
   "execution_count": 20,
   "metadata": {
    "collapsed": true
   },
   "outputs": [],
   "source": [
    "import tensorflow as tf\n",
    "\n",
    "# Returns tensor for a batch of image inputs\n",
    "def neural_net_image_input(image_shape):\n",
    "    new_shape = [None]\n",
    "    for p in image_shape:\n",
    "        new_shape.append(p)\n",
    "    \n",
    "    return tf.placeholder(tf.float32, shape=new_shape, name='x')\n",
    "\n",
    "# Returns a tensor for a batch of label inputs\n",
    "def neural_net_label_input(n_classes):\n",
    "    label_shape = [None]\n",
    "    label_shape.append(n_classes)\n",
    "    \n",
    "    return tf.placeholder(tf.float32, shape=label_shape, name='y')\n",
    "\n",
    "# Returns a tensor for keep_prob\n",
    "def neural_net_keep_prob_input():\n",
    "    return tf.placeholder(tf.float32, name='keep_prob')"
   ]
  },
  {
   "cell_type": "markdown",
   "metadata": {},
   "source": [
    "### Convolutional and Max Pooling Layer"
   ]
  },
  {
   "cell_type": "code",
   "execution_count": 21,
   "metadata": {
    "collapsed": true
   },
   "outputs": [],
   "source": [
    "def conv2d_maxpool(x_tensor, conv_num_outputs, conv_ksize, conv_strides, pool_ksize, pool_strides):\n",
    "    \"\"\"\n",
    "    Apply convolution then max pooling to x_tensor\n",
    "    :param x_tensor: TensorFlow Tensor\n",
    "    :param conv_num_outputs: Number of outputs for the convolutional layer\n",
    "    :param conv_ksize: kernal size 2-D Tuple for the convolutional layer\n",
    "    :param conv_strides: Stride 2-D Tuple for convolution\n",
    "    :param pool_ksize: kernal size 2-D Tuple for pool\n",
    "    :param pool_strides: Stride 2-D Tuple for pool\n",
    "    : return: A tensor that represents convolution and max pooling of x_tensor\n",
    "    \"\"\"\n",
    "    # Define Shapes\n",
    "    new_shape = [\n",
    "        conv_ksize[0],\n",
    "        conv_ksize[1],\n",
    "        x_tensor.shape[3].value,\n",
    "        conv_num_outputs\n",
    "    ]\n",
    "\n",
    "    conv_format_stride = [\n",
    "        1,\n",
    "        conv_strides[0],\n",
    "        conv_strides[1],\n",
    "        1\n",
    "    ]\n",
    "\n",
    "    pool_format_stride = [\n",
    "        1,\n",
    "        pool_strides[0],\n",
    "        pool_strides[1],\n",
    "        1\n",
    "    ]\n",
    "\n",
    "    pool_format_ksize = [\n",
    "        1,\n",
    "        pool_ksize[0],\n",
    "        pool_ksize[1],\n",
    "        1\n",
    "    ]\n",
    "    \n",
    "    # Weights & Bias \n",
    "    weights = tf.Variable(tf.truncated_normal(new_shape, stddev=0.1))\n",
    "    bias = tf.Variable(tf.zeros(conv_num_outputs))\n",
    "    \n",
    "    # Apply conv to input tensor\n",
    "    conv_out = tf.nn.conv2d(x_tensor, \n",
    "                           weights, \n",
    "                           conv_format_stride, \n",
    "                           padding=\"SAME\")\n",
    "    \n",
    "    # Add bias\n",
    "    conv_out = tf.nn.bias_add(conv_out, bias)\n",
    "    \n",
    "    # Non-linear activation\n",
    "    conv_out = tf.nn.relu(conv_out)\n",
    "    \n",
    "    # Apply max pooling\n",
    "    conv_out = tf.nn.max_pool(conv_out,\n",
    "                             pool_format_ksize,\n",
    "                             pool_format_stride,\n",
    "                             padding=\"SAME\")\n",
    "    \n",
    "    return conv_out\n",
    "    "
   ]
  },
  {
   "cell_type": "markdown",
   "metadata": {},
   "source": [
    "## Flatten Layer\n",
    "Changes the dimension of tensor from a 4-D tensor, to a 2-D tensor. Output shape is (batch_size, flattened_image_size)."
   ]
  },
  {
   "cell_type": "code",
   "execution_count": 22,
   "metadata": {
    "collapsed": true
   },
   "outputs": [],
   "source": [
    "def flatten(x_tensor):\n",
    "    \"\"\"\n",
    "    Flatten x_tensor to (Batch Size, Flattened Image Size)\n",
    "    : x_tensor: A tensor of size (Batch Size, ...), where ... are the image dimensions.\n",
    "    : return: A tensor of size (Batch Size, Flattened Image Size).\n",
    "    \"\"\"\n",
    "    shape = x_tensor.get_shape().as_list()\n",
    "    dimension = np.prod(shape[1:])\n",
    "    flattened = tf.reshape(x_tensor, [-1, dimension])\n",
    "    \n",
    "    return flattened"
   ]
  },
  {
   "cell_type": "markdown",
   "metadata": {},
   "source": [
    "## Fully Connected Layer"
   ]
  },
  {
   "cell_type": "code",
   "execution_count": 23,
   "metadata": {
    "collapsed": true
   },
   "outputs": [],
   "source": [
    "def fully_conn(x_tensor, num_outputs):\n",
    "    \"\"\"\n",
    "    Apply a fully connected layer to x_tensor using weight and bias\n",
    "    : x_tensor: A 2-D tensor where the first dimension is batch size.\n",
    "    : num_outputs: The number of output that the new tensor should be.\n",
    "    : return: A 2-D tensor where the second dimension is num_outputs.\n",
    "    \"\"\"\n",
    "    curr_shape = x_tensor.shape.as_list()\n",
    "    weights = tf.Variable(tf.truncated_normal([curr_shape[1], num_outputs], stddev=0.1))\n",
    "    bias = tf.Variable(tf.zeros(num_outputs))\n",
    "    fc = tf.add(tf.matmul(x_tensor, weights), bias)\n",
    "    \n",
    "    return tf.nn.relu(fc)\n"
   ]
  },
  {
   "cell_type": "markdown",
   "metadata": {
    "collapsed": true
   },
   "source": [
    "## Output Layer"
   ]
  },
  {
   "cell_type": "code",
   "execution_count": 24,
   "metadata": {
    "collapsed": true
   },
   "outputs": [],
   "source": [
    "def output(x_tensor, num_outputs):\n",
    "    \"\"\"\n",
    "    Apply a output layer to x_tensor using weight and bias\n",
    "    : x_tensor: A 2-D tensor where the first dimension is batch size.\n",
    "    : num_outputs: The number of output that the new tensor should be.\n",
    "    : return: A 2-D tensor where the second dimension is num_outputs.\n",
    "    \"\"\"\n",
    "    curr_shape = x_tensor.shape.as_list()\n",
    "    \n",
    "    weights = tf.Variable(tf.truncated_normal([curr_shape[1], \n",
    "                                              num_outputs], \n",
    "                                             stddev=0.1))\n",
    "    \n",
    "    bias = tf.Variable(tf.zeros(num_outputs))\n",
    "    \n",
    "    out = tf.add(tf.matmul(x_tensor, weights), bias)\n",
    "    \n",
    "    return out\n",
    "    "
   ]
  },
  {
   "cell_type": "markdown",
   "metadata": {},
   "source": [
    "## Convolutional Model"
   ]
  },
  {
   "cell_type": "code",
   "execution_count": 25,
   "metadata": {
    "collapsed": true
   },
   "outputs": [],
   "source": [
    "def conv_net(x, keep_prob):\n",
    "    \"\"\"\n",
    "    Create a convolutional neural network model\n",
    "    : x: Placeholder tensor that holds image data.\n",
    "    : keep_prob: Placeholder tensor that hold dropout keep probability.\n",
    "    : return: Tensor that represents logits\n",
    "    \"\"\"\n",
    "    # Convolutional Layers\n",
    "    conv1 = conv2d_maxpool(x_tensor=x,\n",
    "                       conv_num_outputs=20,\n",
    "                       conv_ksize=[7, 7],\n",
    "                       conv_strides=[1, 1],\n",
    "                       pool_ksize=[2, 2],\n",
    "                       pool_strides=[2, 2])\n",
    "\n",
    "    conv2 = conv2d_maxpool(x_tensor=conv1,\n",
    "                       conv_num_outputs=50,\n",
    "                       conv_ksize=[5, 5],\n",
    "                       conv_strides=[1, 1],\n",
    "                       pool_ksize=[2, 2],\n",
    "                       pool_strides=[2, 2])\n",
    "\n",
    "    conv3 = conv2d_maxpool(x_tensor=conv2,\n",
    "                       conv_num_outputs=130,\n",
    "                       conv_ksize=[3, 3],\n",
    "                       conv_strides=[1, 1],\n",
    "                       pool_ksize=[2, 2],\n",
    "                       pool_strides=[1, 1])\n",
    "\n",
    "    # Drop out & Activation\n",
    "    conv3 = tf.nn.dropout(conv3, keep_prob)\n",
    "    conv_out = tf.nn.relu(conv3)\n",
    "    \n",
    "    # Flatten\n",
    "    flat = flatten(conv_out)\n",
    "    \n",
    "    # Fully connected layers with dropout\n",
    "    fc1 = fully_conn(flat, 100)\n",
    "    fc1 = tf.nn.relu(fc1)\n",
    "    fc1 = tf.nn.dropout(fc1, keep_prob)\n",
    "    \n",
    "    fc2 = fully_conn(fc1, 60)\n",
    "    fc2 = tf.nn.relu(fc2)\n",
    "    fc2 = tf.nn.dropout(fc2, keep_prob+0.2)\n",
    "\n",
    "    fc3 = fully_conn(fc2, 25)\n",
    "    fc3 = tf.nn.relu(fc3)\n",
    "    fc3 = tf.nn.dropout(fc3,keep_prob+0.4)\n",
    "    \n",
    "    out = output(fc3, 10)\n",
    "    \n",
    "    return out\n",
    "        "
   ]
  },
  {
   "cell_type": "markdown",
   "metadata": {},
   "source": [
    "## Build Neural Network"
   ]
  },
  {
   "cell_type": "code",
   "execution_count": 26,
   "metadata": {
    "collapsed": true
   },
   "outputs": [],
   "source": [
    "# Reset params from previous run(s)\n",
    "tf.reset_default_graph()\n",
    "\n",
    "# Inputs\n",
    "x = neural_net_image_input((32, 32, 3))\n",
    "y = neural_net_label_input(10)\n",
    "keep_prob = neural_net_keep_prob_input()\n",
    "\n",
    "# Model\n",
    "logits = conv_net(x, keep_prob)\n",
    "\n",
    "# Name logits Tensor\n",
    "logits = tf.identity(logits, name = 'logits')\n",
    "\n",
    "# Loss & Optimizer\n",
    "cost = tf.reduce_mean(tf.nn.softmax_cross_entropy_with_logits(logits=logits, labels=y))\n",
    "optimizer = tf.train.AdamOptimizer().minimize(cost)\n",
    "\n",
    "# Accuracy\n",
    "correct_pred = tf.equal(tf.argmax(logits, 1), tf.argmax(y, 1))\n",
    "accuracy = tf.reduce_mean(tf.cast(correct_pred, tf.float32), name = 'accuracy')\n"
   ]
  },
  {
   "cell_type": "markdown",
   "metadata": {},
   "source": [
    "## Network Training function"
   ]
  },
  {
   "cell_type": "code",
   "execution_count": 27,
   "metadata": {
    "collapsed": true
   },
   "outputs": [],
   "source": [
    "def train_neural_network(session, optimizer, keep_probability, feature_batch, label_batch):\n",
    "    \"\"\"\n",
    "    Optimize the session on a batch of images and labels\n",
    "    : session: Current TensorFlow session\n",
    "    : optimizer: TensorFlow optimizer function\n",
    "    : keep_probability: keep probability\n",
    "    : feature_batch: Batch of Numpy image data\n",
    "    : label_batch: Batch of Numpy label data\n",
    "    \"\"\"\n",
    "    session.run(optimizer, feed_dict={\n",
    "        keep_prob: keep_probability,\n",
    "        x: feature_batch,\n",
    "        y: label_batch\n",
    "    })"
   ]
  },
  {
   "cell_type": "markdown",
   "metadata": {},
   "source": [
    "### Show Network stats"
   ]
  },
  {
   "cell_type": "code",
   "execution_count": 28,
   "metadata": {
    "collapsed": true
   },
   "outputs": [],
   "source": [
    "def print_stats(session, feature_batch, label_batch, cost, accuracy):\n",
    "    loss = sess.run(cost, feed_dict={\n",
    "        x: feature_batch,\n",
    "        y: label_batch,\n",
    "        keep_prob: 1\n",
    "    })\n",
    "    \n",
    "    valid_acc = sess.run(accuracy, feed_dict={\n",
    "        x: valid_features,\n",
    "        y: valid_labels,\n",
    "        keep_prob: 1\n",
    "    })\n",
    "    \n",
    "    print(\"Loss = {0} - Accuracy = {1}\".format(loss, valid_acc))"
   ]
  },
  {
   "cell_type": "markdown",
   "metadata": {},
   "source": [
    "## Set Hyperparameteres"
   ]
  },
  {
   "cell_type": "code",
   "execution_count": 29,
   "metadata": {
    "collapsed": true
   },
   "outputs": [],
   "source": [
    "epochs = 30\n",
    "batch_size = 128\n",
    "keep_probability = 0.5"
   ]
  },
  {
   "cell_type": "markdown",
   "metadata": {},
   "source": [
    "## Train on Single CIFAR-10 Batch\n",
    "Ensure acceptable result on single batch before proceeding with full training."
   ]
  },
  {
   "cell_type": "code",
   "execution_count": 30,
   "metadata": {},
   "outputs": [
    {
     "name": "stdout",
     "output_type": "stream",
     "text": [
      "Epoch  1, CIFAR-10 Batch 1: Loss = 2.2372090816497803 - Accuracy = 0.19480000436306\n",
      "Epoch  2, CIFAR-10 Batch 1: Loss = 2.1096184253692627 - Accuracy = 0.25360000133514404\n",
      "Epoch  3, CIFAR-10 Batch 1: Loss = 2.0038905143737793 - Accuracy = 0.3051999807357788\n",
      "Epoch  4, CIFAR-10 Batch 1: Loss = 1.8615801334381104 - Accuracy = 0.319599986076355\n",
      "Epoch  5, CIFAR-10 Batch 1: Loss = 1.8853275775909424 - Accuracy = 0.366599977016449\n",
      "Epoch  6, CIFAR-10 Batch 1: Loss = 1.8310250043869019 - Accuracy = 0.387999951839447\n",
      "Epoch  7, CIFAR-10 Batch 1: Loss = 1.7041120529174805 - Accuracy = 0.3937999904155731\n",
      "Epoch  8, CIFAR-10 Batch 1: Loss = 1.6278326511383057 - Accuracy = 0.3985999822616577\n",
      "Epoch  9, CIFAR-10 Batch 1: Loss = 1.48432195186615 - Accuracy = 0.4251999855041504\n",
      "Epoch 10, CIFAR-10 Batch 1: Loss = 1.4401819705963135 - Accuracy = 0.4521999657154083\n",
      "Epoch 11, CIFAR-10 Batch 1: Loss = 1.3475570678710938 - Accuracy = 0.4527999758720398\n",
      "Epoch 12, CIFAR-10 Batch 1: Loss = 1.2334973812103271 - Accuracy = 0.4493999779224396\n",
      "Epoch 13, CIFAR-10 Batch 1: Loss = 1.2279881238937378 - Accuracy = 0.46459993720054626\n",
      "Epoch 14, CIFAR-10 Batch 1: Loss = 1.1152478456497192 - Accuracy = 0.465999960899353\n",
      "Epoch 15, CIFAR-10 Batch 1: Loss = 1.0140044689178467 - Accuracy = 0.4909999370574951\n",
      "Epoch 16, CIFAR-10 Batch 1: Loss = 0.973102331161499 - Accuracy = 0.5005999207496643\n",
      "Epoch 17, CIFAR-10 Batch 1: Loss = 0.938440203666687 - Accuracy = 0.5107999444007874\n",
      "Epoch 18, CIFAR-10 Batch 1: Loss = 0.8257092833518982 - Accuracy = 0.5167999267578125\n",
      "Epoch 19, CIFAR-10 Batch 1: Loss = 0.7874374389648438 - Accuracy = 0.5365999341011047\n",
      "Epoch 20, CIFAR-10 Batch 1: Loss = 0.733672022819519 - Accuracy = 0.52239990234375\n",
      "Epoch 21, CIFAR-10 Batch 1: Loss = 0.6861730217933655 - Accuracy = 0.5173999071121216\n",
      "Epoch 22, CIFAR-10 Batch 1: Loss = 0.6459082365036011 - Accuracy = 0.5266000032424927\n",
      "Epoch 23, CIFAR-10 Batch 1: Loss = 0.6129676103591919 - Accuracy = 0.5381999015808105\n",
      "Epoch 24, CIFAR-10 Batch 1: Loss = 0.5788947939872742 - Accuracy = 0.535599946975708\n",
      "Epoch 25, CIFAR-10 Batch 1: Loss = 0.5376092195510864 - Accuracy = 0.5415999293327332\n",
      "Epoch 26, CIFAR-10 Batch 1: Loss = 0.5253381133079529 - Accuracy = 0.5449999570846558\n",
      "Epoch 27, CIFAR-10 Batch 1: Loss = 0.49170970916748047 - Accuracy = 0.5609999299049377\n",
      "Epoch 28, CIFAR-10 Batch 1: Loss = 0.4734620749950409 - Accuracy = 0.5605999231338501\n",
      "Epoch 29, CIFAR-10 Batch 1: Loss = 0.4774734079837799 - Accuracy = 0.5509999990463257\n",
      "Epoch 30, CIFAR-10 Batch 1: Loss = 0.4579061269760132 - Accuracy = 0.5415998697280884\n"
     ]
    }
   ],
   "source": [
    "with tf.Session() as sess:\n",
    "    # Init variables\n",
    "    sess.run(tf.global_variables_initializer())\n",
    "    \n",
    "    # Training Cycle\n",
    "    for epoch in range(epochs):\n",
    "        batch_i = 1\n",
    "        for batch_features, batch_labels in helper.load_preprocess_training_batch(batch_i, batch_size):\n",
    "            train_neural_network(sess, optimizer, keep_probability, batch_features, batch_labels)\n",
    "        \n",
    "        print('Epoch {:>2}, CIFAR-10 Batch {}: '.format(epoch+1, batch_i), end='')\n",
    "        \n",
    "        print_stats(sess, batch_features, batch_labels, cost, accuracy)"
   ]
  },
  {
   "cell_type": "markdown",
   "metadata": {
    "collapsed": true
   },
   "source": [
    "## Fully Train Model \n",
    "Full training run with all five batches."
   ]
  },
  {
   "cell_type": "code",
   "execution_count": 32,
   "metadata": {},
   "outputs": [
    {
     "name": "stdout",
     "output_type": "stream",
     "text": [
      "Training...\n",
      "Epoch  1, CIFAR-10 Batch 1:  Loss = 2.266223907470703 - Accuracy = 0.17819999158382416\n",
      "Epoch  1, CIFAR-10 Batch 2:  Loss = 2.055692195892334 - Accuracy = 0.22979998588562012\n",
      "Epoch  1, CIFAR-10 Batch 3:  Loss = 1.772341012954712 - Accuracy = 0.2766000032424927\n",
      "Epoch  1, CIFAR-10 Batch 4:  Loss = 1.8747470378875732 - Accuracy = 0.29339998960494995\n",
      "Epoch  1, CIFAR-10 Batch 5:  Loss = 1.651491403579712 - Accuracy = 0.3452000021934509\n",
      "Epoch  2, CIFAR-10 Batch 1:  Loss = 1.8839610815048218 - Accuracy = 0.3724000155925751\n",
      "Epoch  2, CIFAR-10 Batch 2:  Loss = 1.8118237257003784 - Accuracy = 0.39559996128082275\n",
      "Epoch  2, CIFAR-10 Batch 3:  Loss = 1.4225984811782837 - Accuracy = 0.4129999577999115\n",
      "Epoch  2, CIFAR-10 Batch 4:  Loss = 1.5923359394073486 - Accuracy = 0.41599997878074646\n",
      "Epoch  2, CIFAR-10 Batch 5:  Loss = 1.4813625812530518 - Accuracy = 0.43619999289512634\n",
      "Epoch  3, CIFAR-10 Batch 1:  Loss = 1.6224682331085205 - Accuracy = 0.457599937915802\n",
      "Epoch  3, CIFAR-10 Batch 2:  Loss = 1.6315737962722778 - Accuracy = 0.4269999861717224\n",
      "Epoch  3, CIFAR-10 Batch 3:  Loss = 1.2571165561676025 - Accuracy = 0.47259995341300964\n",
      "Epoch  3, CIFAR-10 Batch 4:  Loss = 1.3561091423034668 - Accuracy = 0.5059999227523804\n",
      "Epoch  3, CIFAR-10 Batch 5:  Loss = 1.3724286556243896 - Accuracy = 0.5107999444007874\n",
      "Epoch  4, CIFAR-10 Batch 1:  Loss = 1.3318756818771362 - Accuracy = 0.5077999234199524\n",
      "Epoch  4, CIFAR-10 Batch 2:  Loss = 1.4359707832336426 - Accuracy = 0.5281999707221985\n",
      "Epoch  4, CIFAR-10 Batch 3:  Loss = 1.085841417312622 - Accuracy = 0.5275999307632446\n",
      "Epoch  4, CIFAR-10 Batch 4:  Loss = 1.3242486715316772 - Accuracy = 0.54339998960495\n",
      "Epoch  4, CIFAR-10 Batch 5:  Loss = 1.2282803058624268 - Accuracy = 0.545799970626831\n",
      "Epoch  5, CIFAR-10 Batch 1:  Loss = 1.0959744453430176 - Accuracy = 0.5375999212265015\n",
      "Epoch  5, CIFAR-10 Batch 2:  Loss = 1.2463099956512451 - Accuracy = 0.555199921131134\n",
      "Epoch  5, CIFAR-10 Batch 3:  Loss = 1.007322072982788 - Accuracy = 0.5619999170303345\n",
      "Epoch  5, CIFAR-10 Batch 4:  Loss = 1.2273355722427368 - Accuracy = 0.5763999223709106\n",
      "Epoch  5, CIFAR-10 Batch 5:  Loss = 1.303580641746521 - Accuracy = 0.5525999665260315\n",
      "Epoch  6, CIFAR-10 Batch 1:  Loss = 1.0069234371185303 - Accuracy = 0.5495999455451965\n",
      "Epoch  6, CIFAR-10 Batch 2:  Loss = 1.0332396030426025 - Accuracy = 0.5779999494552612\n",
      "Epoch  6, CIFAR-10 Batch 3:  Loss = 0.864309549331665 - Accuracy = 0.5913999080657959\n",
      "Epoch  6, CIFAR-10 Batch 4:  Loss = 1.1375727653503418 - Accuracy = 0.5911999344825745\n",
      "Epoch  6, CIFAR-10 Batch 5:  Loss = 1.0393643379211426 - Accuracy = 0.5875999331474304\n",
      "Epoch  7, CIFAR-10 Batch 1:  Loss = 1.0181828737258911 - Accuracy = 0.5927999019622803\n",
      "Epoch  7, CIFAR-10 Batch 2:  Loss = 1.0359725952148438 - Accuracy = 0.6061999201774597\n",
      "Epoch  7, CIFAR-10 Batch 3:  Loss = 0.7570086717605591 - Accuracy = 0.6059999465942383\n",
      "Epoch  7, CIFAR-10 Batch 4:  Loss = 1.1398228406906128 - Accuracy = 0.6181999444961548\n",
      "Epoch  7, CIFAR-10 Batch 5:  Loss = 0.9193093776702881 - Accuracy = 0.6159999370574951\n",
      "Epoch  8, CIFAR-10 Batch 1:  Loss = 0.8145985007286072 - Accuracy = 0.600399911403656\n",
      "Epoch  8, CIFAR-10 Batch 2:  Loss = 0.7689334750175476 - Accuracy = 0.624799907207489\n",
      "Epoch  8, CIFAR-10 Batch 3:  Loss = 0.6400535106658936 - Accuracy = 0.6237998604774475\n",
      "Epoch  8, CIFAR-10 Batch 4:  Loss = 0.881150484085083 - Accuracy = 0.6375998854637146\n",
      "Epoch  8, CIFAR-10 Batch 5:  Loss = 0.8101025819778442 - Accuracy = 0.6331998705863953\n",
      "Epoch  9, CIFAR-10 Batch 1:  Loss = 0.8008706569671631 - Accuracy = 0.6201998591423035\n",
      "Epoch  9, CIFAR-10 Batch 2:  Loss = 0.796170711517334 - Accuracy = 0.6397998332977295\n",
      "Epoch  9, CIFAR-10 Batch 3:  Loss = 0.5870723128318787 - Accuracy = 0.6349998712539673\n",
      "Epoch  9, CIFAR-10 Batch 4:  Loss = 0.9368590116500854 - Accuracy = 0.6135998964309692\n",
      "Epoch  9, CIFAR-10 Batch 5:  Loss = 0.747864842414856 - Accuracy = 0.637999951839447\n",
      "Epoch 10, CIFAR-10 Batch 1:  Loss = 0.7764716148376465 - Accuracy = 0.6449998617172241\n",
      "Epoch 10, CIFAR-10 Batch 2:  Loss = 0.6231391429901123 - Accuracy = 0.6541999578475952\n",
      "Epoch 10, CIFAR-10 Batch 3:  Loss = 0.5803495049476624 - Accuracy = 0.6497999429702759\n",
      "Epoch 10, CIFAR-10 Batch 4:  Loss = 0.7330259680747986 - Accuracy = 0.6391998529434204\n",
      "Epoch 10, CIFAR-10 Batch 5:  Loss = 0.6194324493408203 - Accuracy = 0.6385998725891113\n",
      "Epoch 11, CIFAR-10 Batch 1:  Loss = 0.6276735663414001 - Accuracy = 0.6533998847007751\n",
      "Epoch 11, CIFAR-10 Batch 2:  Loss = 0.6312862634658813 - Accuracy = 0.6561999320983887\n",
      "Epoch 11, CIFAR-10 Batch 3:  Loss = 0.6747583150863647 - Accuracy = 0.6297999620437622\n",
      "Epoch 11, CIFAR-10 Batch 4:  Loss = 0.6484675407409668 - Accuracy = 0.6525999307632446\n",
      "Epoch 11, CIFAR-10 Batch 5:  Loss = 0.5831397771835327 - Accuracy = 0.6459998488426208\n",
      "Epoch 12, CIFAR-10 Batch 1:  Loss = 0.6402051448822021 - Accuracy = 0.6633999347686768\n",
      "Epoch 12, CIFAR-10 Batch 2:  Loss = 0.6386513710021973 - Accuracy = 0.6531999111175537\n",
      "Epoch 12, CIFAR-10 Batch 3:  Loss = 0.49452918767929077 - Accuracy = 0.6729998588562012\n",
      "Epoch 12, CIFAR-10 Batch 4:  Loss = 0.5910900831222534 - Accuracy = 0.6649999022483826\n",
      "Epoch 12, CIFAR-10 Batch 5:  Loss = 0.5432489514350891 - Accuracy = 0.666999876499176\n",
      "Epoch 13, CIFAR-10 Batch 1:  Loss = 0.5501238107681274 - Accuracy = 0.6601998805999756\n",
      "Epoch 13, CIFAR-10 Batch 2:  Loss = 0.6158207654953003 - Accuracy = 0.6725998520851135\n",
      "Epoch 13, CIFAR-10 Batch 3:  Loss = 0.5049723386764526 - Accuracy = 0.6631999015808105\n",
      "Epoch 13, CIFAR-10 Batch 4:  Loss = 0.5470902323722839 - Accuracy = 0.66159987449646\n",
      "Epoch 13, CIFAR-10 Batch 5:  Loss = 0.48372530937194824 - Accuracy = 0.6689999103546143\n",
      "Epoch 14, CIFAR-10 Batch 1:  Loss = 0.6145217418670654 - Accuracy = 0.6469998955726624\n",
      "Epoch 14, CIFAR-10 Batch 2:  Loss = 0.46532702445983887 - Accuracy = 0.6763999462127686\n",
      "Epoch 14, CIFAR-10 Batch 3:  Loss = 0.4575963616371155 - Accuracy = 0.673599898815155\n",
      "Epoch 14, CIFAR-10 Batch 4:  Loss = 0.46380555629730225 - Accuracy = 0.6745998859405518\n",
      "Epoch 14, CIFAR-10 Batch 5:  Loss = 0.4505811333656311 - Accuracy = 0.6733998656272888\n",
      "Epoch 15, CIFAR-10 Batch 1:  Loss = 0.5131707191467285 - Accuracy = 0.6755998730659485\n",
      "Epoch 15, CIFAR-10 Batch 2:  Loss = 0.48156166076660156 - Accuracy = 0.6765998601913452\n",
      "Epoch 15, CIFAR-10 Batch 3:  Loss = 0.446535587310791 - Accuracy = 0.6765998601913452\n",
      "Epoch 15, CIFAR-10 Batch 4:  Loss = 0.4940841794013977 - Accuracy = 0.687799870967865\n",
      "Epoch 15, CIFAR-10 Batch 5:  Loss = 0.41507840156555176 - Accuracy = 0.68479984998703\n",
      "Epoch 16, CIFAR-10 Batch 1:  Loss = 0.5072001814842224 - Accuracy = 0.6813998818397522\n",
      "Epoch 16, CIFAR-10 Batch 2:  Loss = 0.4286246597766876 - Accuracy = 0.6821998357772827\n",
      "Epoch 16, CIFAR-10 Batch 3:  Loss = 0.3719996511936188 - Accuracy = 0.6767998337745667\n",
      "Epoch 16, CIFAR-10 Batch 4:  Loss = 0.39876553416252136 - Accuracy = 0.6855999231338501\n",
      "Epoch 16, CIFAR-10 Batch 5:  Loss = 0.40098196268081665 - Accuracy = 0.6855998635292053\n",
      "Epoch 17, CIFAR-10 Batch 1:  Loss = 0.41528674960136414 - Accuracy = 0.6769998669624329\n",
      "Epoch 17, CIFAR-10 Batch 2:  Loss = 0.43644875288009644 - Accuracy = 0.6853999495506287\n",
      "Epoch 17, CIFAR-10 Batch 3:  Loss = 0.38418257236480713 - Accuracy = 0.6831998825073242\n",
      "Epoch 17, CIFAR-10 Batch 4:  Loss = 0.442546546459198 - Accuracy = 0.6723998785018921\n",
      "Epoch 17, CIFAR-10 Batch 5:  Loss = 0.3998600244522095 - Accuracy = 0.68479984998703\n",
      "Epoch 18, CIFAR-10 Batch 1:  Loss = 0.45651906728744507 - Accuracy = 0.6857998967170715\n",
      "Epoch 18, CIFAR-10 Batch 2:  Loss = 0.38806092739105225 - Accuracy = 0.6839998960494995\n",
      "Epoch 18, CIFAR-10 Batch 3:  Loss = 0.3035147190093994 - Accuracy = 0.681199848651886\n",
      "Epoch 18, CIFAR-10 Batch 4:  Loss = 0.3794741630554199 - Accuracy = 0.6907998323440552\n",
      "Epoch 18, CIFAR-10 Batch 5:  Loss = 0.3498634994029999 - Accuracy = 0.6849998831748962\n",
      "Epoch 19, CIFAR-10 Batch 1:  Loss = 0.4019601345062256 - Accuracy = 0.6945998668670654\n",
      "Epoch 19, CIFAR-10 Batch 2:  Loss = 0.3723224103450775 - Accuracy = 0.6913999319076538\n",
      "Epoch 19, CIFAR-10 Batch 3:  Loss = 0.33837950229644775 - Accuracy = 0.6877999305725098\n",
      "Epoch 19, CIFAR-10 Batch 4:  Loss = 0.4111766219139099 - Accuracy = 0.6795998811721802\n",
      "Epoch 19, CIFAR-10 Batch 5:  Loss = 0.3066638708114624 - Accuracy = 0.7001999020576477\n",
      "Epoch 20, CIFAR-10 Batch 1:  Loss = 0.3755643665790558 - Accuracy = 0.6891998648643494\n",
      "Epoch 20, CIFAR-10 Batch 2:  Loss = 0.391044557094574 - Accuracy = 0.6815998554229736\n",
      "Epoch 20, CIFAR-10 Batch 3:  Loss = 0.3152567744255066 - Accuracy = 0.6817998886108398\n",
      "Epoch 20, CIFAR-10 Batch 4:  Loss = 0.3254363238811493 - Accuracy = 0.6987999081611633\n",
      "Epoch 20, CIFAR-10 Batch 5:  Loss = 0.3262508809566498 - Accuracy = 0.697999894618988\n",
      "Epoch 21, CIFAR-10 Batch 1:  Loss = 0.3529297709465027 - Accuracy = 0.6877999305725098\n",
      "Epoch 21, CIFAR-10 Batch 2:  Loss = 0.33907949924468994 - Accuracy = 0.6923999190330505\n",
      "Epoch 21, CIFAR-10 Batch 3:  Loss = 0.27457982301712036 - Accuracy = 0.69899982213974\n",
      "Epoch 21, CIFAR-10 Batch 4:  Loss = 0.384090781211853 - Accuracy = 0.6867998838424683\n",
      "Epoch 21, CIFAR-10 Batch 5:  Loss = 0.29003220796585083 - Accuracy = 0.6985998749732971\n",
      "Epoch 22, CIFAR-10 Batch 1:  Loss = 0.349054217338562 - Accuracy = 0.6929998397827148\n",
      "Epoch 22, CIFAR-10 Batch 2:  Loss = 0.3396449387073517 - Accuracy = 0.6955997943878174\n",
      "Epoch 22, CIFAR-10 Batch 3:  Loss = 0.2278285175561905 - Accuracy = 0.6871998906135559\n",
      "Epoch 22, CIFAR-10 Batch 4:  Loss = 0.31924545764923096 - Accuracy = 0.6995998620986938\n",
      "Epoch 22, CIFAR-10 Batch 5:  Loss = 0.25042977929115295 - Accuracy = 0.7023999094963074\n",
      "Epoch 23, CIFAR-10 Batch 1:  Loss = 0.36244457960128784 - Accuracy = 0.6991998553276062\n",
      "Epoch 23, CIFAR-10 Batch 2:  Loss = 0.3125420808792114 - Accuracy = 0.6891999244689941\n",
      "Epoch 23, CIFAR-10 Batch 3:  Loss = 0.2585638165473938 - Accuracy = 0.6985998153686523\n",
      "Epoch 23, CIFAR-10 Batch 4:  Loss = 0.25860947370529175 - Accuracy = 0.6997998952865601\n",
      "Epoch 23, CIFAR-10 Batch 5:  Loss = 0.2901358902454376 - Accuracy = 0.7017998695373535\n",
      "Epoch 24, CIFAR-10 Batch 1:  Loss = 0.30846840143203735 - Accuracy = 0.6985998749732971\n",
      "Epoch 24, CIFAR-10 Batch 2:  Loss = 0.2751363217830658 - Accuracy = 0.6967998147010803\n",
      "Epoch 24, CIFAR-10 Batch 3:  Loss = 0.19704724848270416 - Accuracy = 0.704399824142456\n",
      "Epoch 24, CIFAR-10 Batch 4:  Loss = 0.2698446214199066 - Accuracy = 0.7047998309135437\n",
      "Epoch 24, CIFAR-10 Batch 5:  Loss = 0.25463831424713135 - Accuracy = 0.7079998254776001\n",
      "Epoch 25, CIFAR-10 Batch 1:  Loss = 0.23681050539016724 - Accuracy = 0.7039998769760132\n",
      "Epoch 25, CIFAR-10 Batch 2:  Loss = 0.23942214250564575 - Accuracy = 0.7063998579978943\n",
      "Epoch 25, CIFAR-10 Batch 3:  Loss = 0.19509592652320862 - Accuracy = 0.7041998505592346\n",
      "Epoch 25, CIFAR-10 Batch 4:  Loss = 0.28030818700790405 - Accuracy = 0.6901998519897461\n",
      "Epoch 25, CIFAR-10 Batch 5:  Loss = 0.304049015045166 - Accuracy = 0.7013998031616211\n",
      "Epoch 26, CIFAR-10 Batch 1:  Loss = 0.3274761438369751 - Accuracy = 0.7063998579978943\n",
      "Epoch 26, CIFAR-10 Batch 2:  Loss = 0.2690998613834381 - Accuracy = 0.7125998735427856\n",
      "Epoch 26, CIFAR-10 Batch 3:  Loss = 0.1768530160188675 - Accuracy = 0.6929998397827148\n",
      "Epoch 26, CIFAR-10 Batch 4:  Loss = 0.24370554089546204 - Accuracy = 0.7095998525619507\n",
      "Epoch 26, CIFAR-10 Batch 5:  Loss = 0.28819137811660767 - Accuracy = 0.7075998783111572\n",
      "Epoch 27, CIFAR-10 Batch 1:  Loss = 0.24085694551467896 - Accuracy = 0.7067999243736267\n",
      "Epoch 27, CIFAR-10 Batch 2:  Loss = 0.2959829866886139 - Accuracy = 0.7037997841835022\n",
      "Epoch 27, CIFAR-10 Batch 3:  Loss = 0.1908135712146759 - Accuracy = 0.6973998546600342\n",
      "Epoch 27, CIFAR-10 Batch 4:  Loss = 0.2121661901473999 - Accuracy = 0.7011998891830444\n",
      "Epoch 27, CIFAR-10 Batch 5:  Loss = 0.24179445207118988 - Accuracy = 0.7111998200416565\n",
      "Epoch 28, CIFAR-10 Batch 1:  Loss = 0.23057126998901367 - Accuracy = 0.7003998160362244\n",
      "Epoch 28, CIFAR-10 Batch 2:  Loss = 0.23284387588500977 - Accuracy = 0.7115998268127441\n",
      "Epoch 28, CIFAR-10 Batch 3:  Loss = 0.19747871160507202 - Accuracy = 0.7109998464584351\n",
      "Epoch 28, CIFAR-10 Batch 4:  Loss = 0.23797950148582458 - Accuracy = 0.7091999053955078\n",
      "Epoch 28, CIFAR-10 Batch 5:  Loss = 0.22117331624031067 - Accuracy = 0.7021998763084412\n",
      "Epoch 29, CIFAR-10 Batch 1:  Loss = 0.24583840370178223 - Accuracy = 0.7045998573303223\n",
      "Epoch 29, CIFAR-10 Batch 2:  Loss = 0.25066453218460083 - Accuracy = 0.7055999040603638\n",
      "Epoch 29, CIFAR-10 Batch 3:  Loss = 0.15686281025409698 - Accuracy = 0.7117998600006104\n",
      "Epoch 29, CIFAR-10 Batch 4:  Loss = 0.21330007910728455 - Accuracy = 0.7097998857498169\n",
      "Epoch 29, CIFAR-10 Batch 5:  Loss = 0.17808279395103455 - Accuracy = 0.7129998207092285\n",
      "Epoch 30, CIFAR-10 Batch 1:  Loss = 0.21937696635723114 - Accuracy = 0.6905999183654785\n",
      "Epoch 30, CIFAR-10 Batch 2:  Loss = 0.20387296378612518 - Accuracy = 0.7119998335838318\n",
      "Epoch 30, CIFAR-10 Batch 3:  Loss = 0.15945319831371307 - Accuracy = 0.7137998342514038\n",
      "Epoch 30, CIFAR-10 Batch 4:  Loss = 0.20054537057876587 - Accuracy = 0.7065998315811157\n",
      "Epoch 30, CIFAR-10 Batch 5:  Loss = 0.16155707836151123 - Accuracy = 0.7097998857498169\n"
     ]
    }
   ],
   "source": [
    "save_model_path = './image_classification'\n",
    "\n",
    "print('Training...')\n",
    "with tf.Session() as sess:\n",
    "    # Initializing the variables\n",
    "    sess.run(tf.global_variables_initializer())\n",
    "    \n",
    "    # Training cycle\n",
    "    for epoch in range(epochs):\n",
    "        # Loop over all batches\n",
    "        n_batches = 5\n",
    "        for batch_i in range(1, n_batches + 1):\n",
    "            for batch_features, batch_labels in helper.load_preprocess_training_batch(batch_i, batch_size):\n",
    "                train_neural_network(sess, optimizer, keep_probability, batch_features, batch_labels)\n",
    "            print('Epoch {:>2}, CIFAR-10 Batch {}:  '.format(epoch + 1, batch_i), end='')\n",
    "            print_stats(sess, batch_features, batch_labels, cost, accuracy)\n",
    "            \n",
    "    # Save Model\n",
    "    saver = tf.train.Saver()\n",
    "    save_path = saver.save(sess, save_model_path)"
   ]
  },
  {
   "cell_type": "markdown",
   "metadata": {},
   "source": [
    "## Testing Model\n",
    "Training accuracy is within expected range. Now on to testing."
   ]
  },
  {
   "cell_type": "code",
   "execution_count": 33,
   "metadata": {},
   "outputs": [
    {
     "name": "stdout",
     "output_type": "stream",
     "text": [
      "INFO:tensorflow:Restoring parameters from ./image_classification\n",
      "Testing Accuracy: 0.7080696202531646\n",
      "\n"
     ]
    },
    {
     "data": {
      "image/png": "[encoded data removed]",
      "text/plain": [
       "<matplotlib.figure.Figure at 0x7fbd8787f048>"
      ]
     },
     "metadata": {
      "image/png": {
       "height": 319,
       "width": 355
      }
     },
     "output_type": "display_data"
    }
   ],
   "source": [
    "%matplotlib inline\n",
    "%config InlineBackend.figure_format = 'retina'\n",
    "\n",
    "import tensorflow as tf\n",
    "import pickle\n",
    "import helper\n",
    "import random\n",
    "\n",
    "# Set batch size if not already set\n",
    "try:\n",
    "    if batch_size:\n",
    "        pass\n",
    "except NameError:\n",
    "    batch_size = 64\n",
    "\n",
    "save_model_path = './image_classification'\n",
    "n_samples = 4\n",
    "top_n_predictions = 3\n",
    "\n",
    "def test_model():\n",
    "    \"\"\"\n",
    "    Test the saved model against the test dataset\n",
    "    \"\"\"\n",
    "\n",
    "    test_features, test_labels = pickle.load(open('preprocess_training.p', mode='rb'))\n",
    "    loaded_graph = tf.Graph()\n",
    "\n",
    "    with tf.Session(graph=loaded_graph) as sess:\n",
    "        # Load model\n",
    "        loader = tf.train.import_meta_graph(save_model_path + '.meta')\n",
    "        loader.restore(sess, save_model_path)\n",
    "\n",
    "        # Get Tensors from loaded model\n",
    "        loaded_x = loaded_graph.get_tensor_by_name('x:0')\n",
    "        loaded_y = loaded_graph.get_tensor_by_name('y:0')\n",
    "        loaded_keep_prob = loaded_graph.get_tensor_by_name('keep_prob:0')\n",
    "        loaded_logits = loaded_graph.get_tensor_by_name('logits:0')\n",
    "        loaded_acc = loaded_graph.get_tensor_by_name('accuracy:0')\n",
    "        \n",
    "        # Get accuracy in batches for memory limitations\n",
    "        test_batch_acc_total = 0\n",
    "        test_batch_count = 0\n",
    "        \n",
    "        for train_feature_batch, train_label_batch in helper.batch_features_labels(test_features, test_labels, batch_size):\n",
    "            test_batch_acc_total += sess.run(\n",
    "                loaded_acc,\n",
    "                feed_dict={loaded_x: train_feature_batch, loaded_y: train_label_batch, loaded_keep_prob: 1.0})\n",
    "            test_batch_count += 1\n",
    "\n",
    "        print('Testing Accuracy: {}\\n'.format(test_batch_acc_total/test_batch_count))\n",
    "\n",
    "        # Print Random Samples\n",
    "        random_test_features, random_test_labels = tuple(zip(*random.sample(list(zip(test_features, test_labels)), n_samples)))\n",
    "        random_test_predictions = sess.run(\n",
    "            tf.nn.top_k(tf.nn.softmax(loaded_logits), top_n_predictions),\n",
    "            feed_dict={loaded_x: random_test_features, loaded_y: random_test_labels, loaded_keep_prob: 1.0})\n",
    "        helper.display_image_predictions(random_test_features, random_test_labels, random_test_predictions)\n",
    "\n",
    "\n",
    "test_model()"
   ]
  },
  {
   "cell_type": "code",
   "execution_count": null,
   "metadata": {
    "collapsed": true
   },
   "outputs": [],
   "source": []
  }
 ],
 "metadata": {
  "kernelspec": {
   "display_name": "Python 3",
   "language": "python",
   "name": "python3"
  },
  "language_info": {
   "codemirror_mode": {
    "name": "ipython",
    "version": 3
   },
   "file_extension": ".py",
   "mimetype": "text/x-python",
   "name": "python",
   "nbconvert_exporter": "python",
   "pygments_lexer": "ipython3",
   "version": "3.5.3"
  }
 },
 "nbformat": 4,
 "nbformat_minor": 2
}
